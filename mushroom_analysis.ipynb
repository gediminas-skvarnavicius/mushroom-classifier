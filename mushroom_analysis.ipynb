{
 "cells": [
  {
   "cell_type": "code",
   "execution_count": 1,
   "metadata": {},
   "outputs": [],
   "source": [
    "%reload_ext autoreload\n",
    "%autoreload 1\n",
    "from model_files.model import MushroomClassifier,MushroomDataModule\n",
    "import os, shutil\n",
    "import matplotlib.pyplot as plt\n",
    "import seaborn as sns\n",
    "import polars as pl\n",
    "import cv2\n",
    "import joblib\n",
    "import numpy as np\n",
    "import torch\n",
    "from torchvision import datasets, transforms\n",
    "from torchvision.models import resnet18,ResNet18_Weights\n",
    "from torch.utils.data import DataLoader, random_split\n",
    "from sklearn.model_selection import train_test_split\n",
    "import pytorch_lightning as ptl\n",
    "from torchmetrics.classification import Accuracy\n",
    "from torch.utils.data import Subset\n",
    "from PIL import Image\n",
    "from pytorch_lightning.callbacks.early_stopping import EarlyStopping\n",
    "import model_files.tuning as tunes\n",
    "from ray import tune\n",
    "from ray.tune.stopper import MaximumIterationStopper\n",
    "from ray.tune.search.optuna import OptunaSearch\n",
    "from ray import train\n",
    "%aimport model_files.tuning\n",
    "%aimport model_files.model"
   ]
  },
  {
   "cell_type": "code",
   "execution_count": 2,
   "metadata": {},
   "outputs": [],
   "source": [
    "BASE_FIG_SIZE=(8.5,5)"
   ]
  },
  {
   "cell_type": "code",
   "execution_count": 3,
   "metadata": {},
   "outputs": [],
   "source": [
    "files=os.listdir(\"Mushrooms\")\n",
    "genuses = [file for file in files]\n",
    "genus_data_count={}\n",
    "for genus in genuses:\n",
    "    pics=os.listdir(f\"Mushrooms/{genus}\")\n",
    "    genus_data_count[genus]=len([pic for pic in pics])"
   ]
  },
  {
   "cell_type": "code",
   "execution_count": 4,
   "metadata": {},
   "outputs": [
    {
     "data": {
      "text/plain": [
       "{'Boletus': 1073,\n",
       " 'Cortinarius': 836,\n",
       " 'Entoloma': 364,\n",
       " 'Hygrocybe': 316,\n",
       " 'Lactarius': 1563,\n",
       " 'Russula': 1148,\n",
       " 'Agaricus': 353,\n",
       " 'Amanita': 750,\n",
       " 'Suillus': 311}"
      ]
     },
     "execution_count": 4,
     "metadata": {},
     "output_type": "execute_result"
    }
   ],
   "source": [
    "genus_data_count"
   ]
  },
  {
   "cell_type": "code",
   "execution_count": 5,
   "metadata": {},
   "outputs": [
    {
     "data": {
      "text/plain": [
       "<Axes: >"
      ]
     },
     "execution_count": 5,
     "metadata": {},
     "output_type": "execute_result"
    },
    {
     "data": {
      "image/png": "[encoded data removed]",
      "text/plain": [
       "<Figure size 640x480 with 1 Axes>"
      ]
     },
     "metadata": {},
     "output_type": "display_data"
    }
   ],
   "source": [
    "sns.barplot(genus_data_count,orient='y')"
   ]
  },
  {
   "cell_type": "raw",
   "metadata": {},
   "source": [
    "sizes = {}\n",
    "for genus in genus_data_count.keys():\n",
    "    sizes[genus] = pl.DataFrame(schema={\"name\":str, \"height\":int, \"width\":int, \"channels\":int})\n",
    "    for img_name in os.listdir(f\"Mushrooms/{genus}\"):\n",
    "        img = cv2.imread(f\"Mushrooms/{genus}/{img_name}\")\n",
    "        height, width, channels = img.shape\n",
    "        extend_df = pl.DataFrame(\n",
    "            {\"name\": img_name, \"height\": height, \"width\": width, \"channels\": channels}\n",
    "        )\n",
    "        sizes[genus]=sizes[genus].extend(extend_df)"
   ]
  },
  {
   "cell_type": "raw",
   "metadata": {},
   "source": [
    "fig_sizes, ax_sizes = plt.subplots(\n",
    "    4, 1, figsize=(BASE_FIG_SIZE[0], BASE_FIG_SIZE[1] * 2.5), sharex=True\n",
    ")\n",
    "for i, genus in enumerate(sizes.keys()):\n",
    "    sns.violinplot(y=sizes[genus][\"height\"], x=i, ax=ax_sizes[0])\n",
    "    sns.violinplot(y=sizes[genus][\"width\"], x=i, ax=ax_sizes[1])\n",
    "    sns.violinplot(\n",
    "        y=sizes[genus]\n",
    "        .select((pl.col(\"height\") * pl.col(\"width\")).alias(\"size\"))\n",
    "        .to_series(),\n",
    "        x=i,\n",
    "        ax=ax_sizes[2],\n",
    "    )\n",
    "    sns.violinplot(\n",
    "        y=sizes[genus]\n",
    "        .select((pl.col(\"width\") / pl.col(\"height\")).alias(\"aspect ratio\"))\n",
    "        .to_series(),\n",
    "        x=i,\n",
    "        ax=ax_sizes[3],\n",
    "    )\n",
    "\n",
    "ax_sizes[3].set_xticks(ticks=np.arange(len(sizes)), labels=sizes.keys())\n",
    "plt.tight_layout()\n",
    "plt.show()"
   ]
  },
  {
   "cell_type": "markdown",
   "metadata": {},
   "source": [
    "sizes"
   ]
  },
  {
   "cell_type": "raw",
   "metadata": {},
   "source": [
    "for i, genus in enumerate(sizes.keys()):\n",
    "    channel_counts=sizes[genus][\"channels\"].value_counts()\n",
    "    if len(channel_counts) >1:\n",
    "        print(f\"{genus} contains images with different channel number.\")\n",
    "    else:\n",
    "        print(f\" All {genus} images have {channel_counts['channels'][0]} channels\")"
   ]
  },
  {
   "cell_type": "raw",
   "metadata": {},
   "source": [
    "size_filter = []\n",
    "for genus in sizes.keys():\n",
    "    small_img_list = (\n",
    "        sizes[genus]\n",
    "        .filter((pl.col(\"height\") < 224) | (pl.col(\"width\") < 224))[\"name\"]\n",
    "        .to_list()\n",
    "    )\n",
    "    small_img_list = [f\"Mushrooms/{genus}/{name}\" for name in small_img_list]\n",
    "    size_filter.extend(small_img_list)"
   ]
  },
  {
   "cell_type": "code",
   "execution_count": 6,
   "metadata": {},
   "outputs": [],
   "source": [
    "transform = transforms.Compose([\n",
    "    transforms.Resize((224, 224)),\n",
    "    transforms.ToTensor(),\n",
    "    transforms.Normalize(mean=[0.5, 0.5, 0.5], std=[0.5, 0.5, 0.5])  \n",
    "])"
   ]
  },
  {
   "cell_type": "code",
   "execution_count": 7,
   "metadata": {},
   "outputs": [],
   "source": [
    "tb_logger = ptl.loggers.TensorBoardLogger('logs')"
   ]
  },
  {
   "cell_type": "code",
   "execution_count": 8,
   "metadata": {},
   "outputs": [],
   "source": [
    "early_stopping_callback = EarlyStopping(\n",
    "    monitor='val_loss',\n",
    "    patience=5,\n",
    "    mode='min',\n",
    "    min_delta=0.001,\n",
    ")"
   ]
  },
  {
   "cell_type": "code",
   "execution_count": 9,
   "metadata": {},
   "outputs": [],
   "source": [
    "current_directory = os.getcwd()\n",
    "stopper = MaximumIterationStopper(1)\n",
    "tuner = tune.Tuner(\n",
    "    trainable=tune.with_resources(\n",
    "        tune.with_parameters(\n",
    "            tunes.TrainableCV,\n",
    "            model=MushroomClassifier,\n",
    "            dm=MushroomDataModule,\n",
    "            metric=\"val_loss\",\n",
    "            logger=tb_logger,\n",
    "            callbacks=[early_stopping_callback],\n",
    "        ),\n",
    "        resources={\"CPU\": 2, \"GPU\": 1},\n",
    "    ),\n",
    "    run_config=train.RunConfig(\n",
    "        stop=stopper,\n",
    "        storage_path=f\"{current_directory}/logs/ray/\",\n",
    "        name=\"tunning\",\n",
    "        checkpoint_config=train.CheckpointConfig(\n",
    "            checkpoint_at_end=False,\n",
    "        ),\n",
    "    ),\n",
    "    tune_config=tune.TuneConfig(\n",
    "        search_alg=OptunaSearch(),\n",
    "        mode=\"min\",\n",
    "        metric=\"score\",\n",
    "        num_samples=2,\n",
    "    ),\n",
    "    param_space={\n",
    "        \"batch_size\": tune.randint(32, 128),\n",
    "        \"img_size\":tune.randint(150,300),\n",
    "        \"max_epochs\": tune.randint(5,35),\n",
    "        \"learning_rate\": tune.loguniform(0.00001, 0.01),\n",
    "        \"num_classes\": 9,\n",
    "        \"architecture\": tune.choice([\"resnet18\",\"squeezenet\",\"google\"]),\n",
    "        \"optimizer\": tune.choice([\"adam\",\"sgd\"]),\n",
    "        \"l2\":tune.loguniform(1e-6,1)\n",
    "    },\n",
    ")"
   ]
  },
  {
   "cell_type": "code",
   "execution_count": 10,
   "metadata": {},
   "outputs": [
    {
     "data": {
      "text/html": [
       "<div class=\"tuneStatus\">\n",
       "  <div style=\"display: flex;flex-direction: row\">\n",
       "    <div style=\"display: flex;flex-direction: column;\">\n",
       "      <h3>Tune Status</h3>\n",
       "      <table>\n",
       "<tbody>\n",
       "<tr><td>Current time:</td><td>2023-12-10 12:03:24</td></tr>\n",
       "<tr><td>Running for: </td><td>00:01:04.26        </td></tr>\n",
       "<tr><td>Memory:      </td><td>11.4/31.2 GiB      </td></tr>\n",
       "</tbody>\n",
       "</table>\n",
       "    </div>\n",
       "    <div class=\"vDivider\"></div>\n",
       "    <div class=\"systemInfo\">\n",
       "      <h3>System Info</h3>\n",
       "      Using FIFO scheduling algorithm.<br>Logical resource usage: 2.0/12 CPUs, 1.0/1 GPUs (0.0/1.0 accelerator_type:G)\n",
       "    </div>\n",
       "    \n",
       "  </div>\n",
       "  <div class=\"hDivider\"></div>\n",
       "  <div class=\"trialStatus\">\n",
       "    <h3>Trial Status</h3>\n",
       "    <table>\n",
       "<thead>\n",
       "<tr><th>Trial name          </th><th>status  </th><th>loc                </th><th>architecture  </th><th style=\"text-align: right;\">  batch_size</th><th style=\"text-align: right;\">  img_size</th><th style=\"text-align: right;\">         l2</th><th style=\"text-align: right;\">  learning_rate</th><th style=\"text-align: right;\">  max_epochs</th><th>optimizer  </th></tr>\n",
       "</thead>\n",
       "<tbody>\n",
       "<tr><td>TrainableCV_5437efff</td><td>RUNNING </td><td>192.168.0.103:19000</td><td>google        </td><td style=\"text-align: right;\">          96</td><td style=\"text-align: right;\">       167</td><td style=\"text-align: right;\">0.00501667 </td><td style=\"text-align: right;\">    0.000140682</td><td style=\"text-align: right;\">          17</td><td>adam       </td></tr>\n",
       "<tr><td>TrainableCV_ddca6e85</td><td>PENDING </td><td>                   </td><td>resnet18      </td><td style=\"text-align: right;\">          54</td><td style=\"text-align: right;\">       231</td><td style=\"text-align: right;\">8.82222e-05</td><td style=\"text-align: right;\">    0.000111315</td><td style=\"text-align: right;\">          20</td><td>sgd        </td></tr>\n",
       "</tbody>\n",
       "</table>\n",
       "  </div>\n",
       "</div>\n",
       "<style>\n",
       ".tuneStatus {\n",
       "  color: var(--jp-ui-font-color1);\n",
       "}\n",
       ".tuneStatus .systemInfo {\n",
       "  display: flex;\n",
       "  flex-direction: column;\n",
       "}\n",
       ".tuneStatus td {\n",
       "  white-space: nowrap;\n",
       "}\n",
       ".tuneStatus .trialStatus {\n",
       "  display: flex;\n",
       "  flex-direction: column;\n",
       "}\n",
       ".tuneStatus h3 {\n",
       "  font-weight: bold;\n",
       "}\n",
       ".tuneStatus .hDivider {\n",
       "  border-bottom-width: var(--jp-border-width);\n",
       "  border-bottom-color: var(--jp-border-color0);\n",
       "  border-bottom-style: solid;\n",
       "}\n",
       ".tuneStatus .vDivider {\n",
       "  border-left-width: var(--jp-border-width);\n",
       "  border-left-color: var(--jp-border-color0);\n",
       "  border-left-style: solid;\n",
       "  margin: 0.5em 1em 0.5em 1em;\n",
       "}\n",
       "</style>\n"
      ],
      "text/plain": [
       "<IPython.core.display.HTML object>"
      ]
     },
     "metadata": {},
     "output_type": "display_data"
    },
    {
     "name": "stderr",
     "output_type": "stream",
     "text": [
      "\u001b[36m(TrainableCV pid=19000)\u001b[0m GPU available: True (cuda), used: True\n",
      "\u001b[36m(TrainableCV pid=19000)\u001b[0m TPU available: False, using: 0 TPU cores\n",
      "\u001b[36m(TrainableCV pid=19000)\u001b[0m IPU available: False, using: 0 IPUs\n",
      "\u001b[36m(TrainableCV pid=19000)\u001b[0m HPU available: False, using: 0 HPUs\n",
      "\u001b[36m(TrainableCV pid=19000)\u001b[0m Missing logger folder: logs/lightning_logs\n",
      "\u001b[36m(TrainableCV pid=19000)\u001b[0m 2023-12-10 12:02:23.055103: I tensorflow/core/util/port.cc:113] oneDNN custom operations are on. You may see slightly different numerical results due to floating-point round-off errors from different computation orders. To turn them off, set the environment variable `TF_ENABLE_ONEDNN_OPTS=0`.\n",
      "\u001b[36m(TrainableCV pid=19000)\u001b[0m 2023-12-10 12:02:23.056626: I external/local_tsl/tsl/cuda/cudart_stub.cc:31] Could not find cuda drivers on your machine, GPU will not be used.\n",
      "\u001b[36m(TrainableCV pid=19000)\u001b[0m 2023-12-10 12:02:23.076107: E external/local_xla/xla/stream_executor/cuda/cuda_dnn.cc:9261] Unable to register cuDNN factory: Attempting to register factory for plugin cuDNN when one has already been registered\n",
      "\u001b[36m(TrainableCV pid=19000)\u001b[0m 2023-12-10 12:02:23.076139: E external/local_xla/xla/stream_executor/cuda/cuda_fft.cc:607] Unable to register cuFFT factory: Attempting to register factory for plugin cuFFT when one has already been registered\n",
      "\u001b[36m(TrainableCV pid=19000)\u001b[0m 2023-12-10 12:02:23.076730: E external/local_xla/xla/stream_executor/cuda/cuda_blas.cc:1515] Unable to register cuBLAS factory: Attempting to register factory for plugin cuBLAS when one has already been registered\n",
      "\u001b[36m(TrainableCV pid=19000)\u001b[0m 2023-12-10 12:02:23.080178: I external/local_tsl/tsl/cuda/cudart_stub.cc:31] Could not find cuda drivers on your machine, GPU will not be used.\n",
      "\u001b[36m(TrainableCV pid=19000)\u001b[0m 2023-12-10 12:02:23.080308: I tensorflow/core/platform/cpu_feature_guard.cc:182] This TensorFlow binary is optimized to use available CPU instructions in performance-critical operations.\n",
      "\u001b[36m(TrainableCV pid=19000)\u001b[0m To enable the following instructions: AVX2 AVX_VNNI FMA, in other operations, rebuild TensorFlow with the appropriate compiler flags.\n",
      "\u001b[36m(TrainableCV pid=19000)\u001b[0m 2023-12-10 12:02:23.637344: W tensorflow/compiler/tf2tensorrt/utils/py_utils.cc:38] TF-TRT Warning: Could not find TensorRT\n"
     ]
    },
    {
     "name": "stdout",
     "output_type": "stream",
     "text": [
      "Sanity Checking: |          | 0/? [00:00<?, ?it/s]\n"
     ]
    },
    {
     "name": "stderr",
     "output_type": "stream",
     "text": [
      "\u001b[36m(TrainableCV pid=19000)\u001b[0m LOCAL_RANK: 0 - CUDA_VISIBLE_DEVICES: [0]\n",
      "\u001b[36m(TrainableCV pid=19000)\u001b[0m \n",
      "\u001b[36m(TrainableCV pid=19000)\u001b[0m   | Name  | Type      | Params\n",
      "\u001b[36m(TrainableCV pid=19000)\u001b[0m ------------------------------------\n",
      "\u001b[36m(TrainableCV pid=19000)\u001b[0m 0 | model | GoogLeNet | 5.6 M \n",
      "\u001b[36m(TrainableCV pid=19000)\u001b[0m ------------------------------------\n",
      "\u001b[36m(TrainableCV pid=19000)\u001b[0m 5.6 M     Trainable params\n",
      "\u001b[36m(TrainableCV pid=19000)\u001b[0m 0         Non-trainable params\n",
      "\u001b[36m(TrainableCV pid=19000)\u001b[0m 5.6 M     Total params\n",
      "\u001b[36m(TrainableCV pid=19000)\u001b[0m 22.437    Total estimated model params size (MB)\n"
     ]
    },
    {
     "name": "stdout",
     "output_type": "stream",
     "text": [
      "Sanity Checking DataLoader 0:   0%|          | 0/2 [00:00<?, ?it/s]\n"
     ]
    },
    {
     "name": "stderr",
     "output_type": "stream",
     "text": [
      "\u001b[36m(TrainableCV pid=19000)\u001b[0m /home/gediminas/anaconda3/envs/DL/lib/python3.11/site-packages/torch/nn/modules/conv.py:456: UserWarning: Applied workaround for CuDNN issue, install nvrtc.so (Triggered internally at ../aten/src/ATen/native/cudnn/Conv_v8.cpp:80.)\n",
      "\u001b[36m(TrainableCV pid=19000)\u001b[0m   return F.conv2d(input, weight, bias, self.stride,\n"
     ]
    },
    {
     "name": "stdout",
     "output_type": "stream",
     "text": [
      "Sanity Checking DataLoader 0:  50%|█████     | 1/2 [00:00<00:00,  4.29it/s]\n",
      "                                                                           \n"
     ]
    },
    {
     "name": "stderr",
     "output_type": "stream",
     "text": [
      "\u001b[36m(TrainableCV pid=19000)\u001b[0m /home/gediminas/anaconda3/envs/DL/lib/python3.11/site-packages/pytorch_lightning/loops/fit_loop.py:293: The number of training batches (42) is smaller than the logging interval Trainer(log_every_n_steps=50). Set a lower value for log_every_n_steps if you want to see logs for the training epoch.\n"
     ]
    },
    {
     "name": "stdout",
     "output_type": "stream",
     "text": [
      "Epoch 0:   0%|          | 0/42 [00:00<?, ?it/s] \n",
      "Epoch 0:   2%|▏         | 1/42 [00:01<00:45,  0.91it/s, v_num=0]\n",
      "Epoch 0:   5%|▍         | 2/42 [00:01<00:23,  1.69it/s, v_num=0]\n",
      "Epoch 0:   7%|▋         | 3/42 [00:01<00:18,  2.14it/s, v_num=0]\n",
      "Epoch 0:  10%|▉         | 4/42 [00:01<00:15,  2.49it/s, v_num=0]\n",
      "Epoch 0:  12%|█▏        | 5/42 [00:01<00:13,  2.74it/s, v_num=0]\n",
      "Epoch 0:  14%|█▍        | 6/42 [00:02<00:12,  2.94it/s, v_num=0]\n",
      "Epoch 0:  17%|█▋        | 7/42 [00:02<00:11,  3.11it/s, v_num=0]\n",
      "Epoch 0:  19%|█▉        | 8/42 [00:02<00:10,  3.24it/s, v_num=0]\n",
      "Epoch 0:  21%|██▏       | 9/42 [00:02<00:09,  3.37it/s, v_num=0]\n",
      "Epoch 0:  24%|██▍       | 10/42 [00:02<00:09,  3.47it/s, v_num=0]\n",
      "Epoch 0:  26%|██▌       | 11/42 [00:03<00:08,  3.56it/s, v_num=0]\n",
      "Epoch 0:  29%|██▊       | 12/42 [00:03<00:08,  3.64it/s, v_num=0]\n",
      "Epoch 0:  31%|███       | 13/42 [00:03<00:07,  3.71it/s, v_num=0]\n",
      "Epoch 0:  33%|███▎      | 14/42 [00:03<00:07,  3.77it/s, v_num=0]\n",
      "Epoch 0:  36%|███▌      | 15/42 [00:03<00:07,  3.82it/s, v_num=0]\n",
      "Epoch 0:  38%|███▊      | 16/42 [00:04<00:06,  3.87it/s, v_num=0]\n",
      "Epoch 0:  40%|████      | 17/42 [00:04<00:06,  3.92it/s, v_num=0]\n",
      "Epoch 0:  43%|████▎     | 18/42 [00:04<00:06,  3.96it/s, v_num=0]\n",
      "Epoch 0:  45%|████▌     | 19/42 [00:04<00:05,  3.99it/s, v_num=0]\n",
      "Epoch 0:  48%|████▊     | 20/42 [00:04<00:05,  4.03it/s, v_num=0]\n",
      "Epoch 0:  50%|█████     | 21/42 [00:05<00:05,  4.06it/s, v_num=0]\n",
      "Epoch 0:  52%|█████▏    | 22/42 [00:05<00:04,  4.09it/s, v_num=0]\n",
      "Epoch 0:  55%|█████▍    | 23/42 [00:05<00:04,  4.12it/s, v_num=0]\n",
      "Epoch 0:  57%|█████▋    | 24/42 [00:05<00:04,  4.14it/s, v_num=0]\n",
      "Epoch 0:  60%|█████▉    | 25/42 [00:06<00:04,  4.16it/s, v_num=0]\n",
      "Epoch 0:  62%|██████▏   | 26/42 [00:06<00:03,  4.18it/s, v_num=0]\n",
      "Epoch 0:  64%|██████▍   | 27/42 [00:06<00:03,  4.21it/s, v_num=0]\n",
      "Epoch 0:  67%|██████▋   | 28/42 [00:06<00:03,  4.23it/s, v_num=0]\n",
      "Epoch 0:  69%|██████▉   | 29/42 [00:06<00:03,  4.24it/s, v_num=0]\n",
      "Epoch 0:  71%|███████▏  | 30/42 [00:07<00:02,  4.26it/s, v_num=0]\n",
      "Epoch 0:  74%|███████▍  | 31/42 [00:07<00:02,  4.28it/s, v_num=0]\n",
      "Epoch 0:  76%|███████▌  | 32/42 [00:07<00:02,  4.29it/s, v_num=0]\n",
      "Epoch 0:  79%|███████▊  | 33/42 [00:07<00:02,  4.31it/s, v_num=0]\n",
      "Epoch 0:  81%|████████  | 34/42 [00:07<00:01,  4.32it/s, v_num=0]\n",
      "Epoch 0:  83%|████████▎ | 35/42 [00:08<00:01,  4.33it/s, v_num=0]\n",
      "Epoch 0:  86%|████████▌ | 36/42 [00:08<00:01,  4.35it/s, v_num=0]\n",
      "Epoch 0:  88%|████████▊ | 37/42 [00:08<00:01,  4.36it/s, v_num=0]\n",
      "Epoch 0:  90%|█████████ | 38/42 [00:08<00:00,  4.37it/s, v_num=0]\n",
      "Epoch 0:  93%|█████████▎| 39/42 [00:08<00:00,  4.38it/s, v_num=0]\n",
      "Epoch 0:  95%|█████████▌| 40/42 [00:09<00:00,  4.39it/s, v_num=0]\n",
      "Epoch 0:  98%|█████████▊| 41/42 [00:09<00:00,  4.40it/s, v_num=0]\n",
      "Epoch 0: 100%|██████████| 42/42 [00:09<00:00,  4.40it/s, v_num=0]\n",
      "\u001b[36m(TrainableCV pid=19000)\u001b[0m \n",
      "Validation: |          | 0/? [00:00<?, ?it/s]\u001b[A\n",
      "\u001b[36m(TrainableCV pid=19000)\u001b[0m \n",
      "Validation:   0%|          | 0/14 [00:00<?, ?it/s]\u001b[A\n",
      "Validation DataLoader 0:   0%|          | 0/14 [00:00<?, ?it/s]\u001b[A\n",
      "Validation DataLoader 0:   7%|▋         | 1/14 [00:00<00:00, 19.08it/s]\u001b[A\n",
      "\u001b[36m(TrainableCV pid=19000)\u001b[0m \n",
      "Validation DataLoader 0:  14%|█▍        | 2/14 [00:00<00:00, 17.76it/s]\u001b[A\n",
      "\u001b[36m(TrainableCV pid=19000)\u001b[0m \n",
      "Validation DataLoader 0:  21%|██▏       | 3/14 [00:00<00:00, 17.30it/s]\u001b[A\n",
      "Validation DataLoader 0:  29%|██▊       | 4/14 [00:00<00:00, 17.07it/s]\u001b[A\n",
      "\u001b[36m(TrainableCV pid=19000)\u001b[0m \n",
      "Validation DataLoader 0:  36%|███▌      | 5/14 [00:00<00:00, 16.97it/s]\u001b[A\n",
      "\u001b[36m(TrainableCV pid=19000)\u001b[0m \n",
      "Validation DataLoader 0:  43%|████▎     | 6/14 [00:00<00:00,  8.34it/s]\u001b[A\n",
      "\u001b[36m(TrainableCV pid=19000)\u001b[0m \n",
      "Validation DataLoader 0:  50%|█████     | 7/14 [00:00<00:00,  8.95it/s]\u001b[A\n",
      "\u001b[36m(TrainableCV pid=19000)\u001b[0m \n",
      "Validation DataLoader 0:  57%|█████▋    | 8/14 [00:00<00:00,  8.11it/s]\u001b[A\n",
      "Validation DataLoader 0:  64%|██████▍   | 9/14 [00:01<00:00,  8.57it/s]\u001b[A\n",
      "\u001b[36m(TrainableCV pid=19000)\u001b[0m \n",
      "Validation DataLoader 0:  71%|███████▏  | 10/14 [00:01<00:00,  9.01it/s]\u001b[A\n",
      "\u001b[36m(TrainableCV pid=19000)\u001b[0m \n",
      "Validation DataLoader 0:  79%|███████▊  | 11/14 [00:01<00:00,  7.75it/s]\u001b[A\n",
      "\u001b[36m(TrainableCV pid=19000)\u001b[0m \n",
      "Validation DataLoader 0:  86%|████████▌ | 12/14 [00:01<00:00,  8.12it/s]\u001b[A\n",
      "\u001b[36m(TrainableCV pid=19000)\u001b[0m \n",
      "Validation DataLoader 0:  93%|█████████▎| 13/14 [00:01<00:00,  7.80it/s]\u001b[A\n",
      "\u001b[36m(TrainableCV pid=19000)\u001b[0m \n",
      "Validation DataLoader 0: 100%|██████████| 14/14 [00:01<00:00,  8.11it/s]\u001b[A\n",
      "Epoch 0: 100%|██████████| 42/42 [00:12<00:00,  3.47it/s, v_num=0]       \u001b[A\n",
      "Epoch 1:   0%|          | 0/42 [00:00<?, ?it/s, v_num=0]         \n"
     ]
    },
    {
     "name": "stderr",
     "output_type": "stream",
     "text": [
      "2023-12-10 12:03:24,131\tWARNING tune.py:186 -- Stop signal received (e.g. via SIGINT/Ctrl+C), ending Ray Tune run. This will try to checkpoint the experiment state one last time. Press CTRL+C (or send SIGINT/SIGKILL/SIGTERM) to skip. \n"
     ]
    },
    {
     "name": "stdout",
     "output_type": "stream",
     "text": [
      "Epoch 1:   2%|▏         | 1/42 [00:00<00:35,  1.15it/s, v_num=0]\n",
      "Epoch 1:   5%|▍         | 2/42 [00:01<00:21,  1.86it/s, v_num=0]\n",
      "Epoch 1:   7%|▋         | 3/42 [00:01<00:16,  2.34it/s, v_num=0]\n",
      "Epoch 1:  10%|▉         | 4/42 [00:01<00:14,  2.68it/s, v_num=0]\n",
      "Epoch 1:  12%|█▏        | 5/42 [00:01<00:12,  2.94it/s, v_num=0]\n",
      "Epoch 1:  14%|█▍        | 6/42 [00:01<00:11,  3.14it/s, v_num=0]\n",
      "Epoch 1:  17%|█▋        | 7/42 [00:02<00:10,  3.30it/s, v_num=0]\n",
      "Epoch 1:  19%|█▉        | 8/42 [00:02<00:09,  3.43it/s, v_num=0]\n",
      "Epoch 1:  21%|██▏       | 9/42 [00:02<00:09,  3.55it/s, v_num=0]\n",
      "Epoch 1:  24%|██▍       | 10/42 [00:02<00:08,  3.64it/s, v_num=0]\n",
      "Epoch 1:  26%|██▌       | 11/42 [00:02<00:08,  3.72it/s, v_num=0]\n",
      "Epoch 1:  29%|██▊       | 12/42 [00:03<00:07,  3.79it/s, v_num=0]\n",
      "Epoch 1:  31%|███       | 13/42 [00:03<00:07,  3.86it/s, v_num=0]\n",
      "Epoch 1:  33%|███▎      | 14/42 [00:03<00:07,  3.91it/s, v_num=0]\n",
      "Epoch 1:  36%|███▌      | 15/42 [00:03<00:06,  3.96it/s, v_num=0]\n",
      "Epoch 1:  38%|███▊      | 16/42 [00:03<00:06,  4.00it/s, v_num=0]\n",
      "Epoch 1:  40%|████      | 17/42 [00:04<00:06,  4.04it/s, v_num=0]\n",
      "Epoch 1:  43%|████▎     | 18/42 [00:04<00:05,  4.08it/s, v_num=0]\n",
      "Epoch 1:  45%|████▌     | 19/42 [00:04<00:05,  4.11it/s, v_num=0]\n",
      "Epoch 1:  48%|████▊     | 20/42 [00:04<00:05,  4.14it/s, v_num=0]\n",
      "Epoch 1:  50%|█████     | 21/42 [00:05<00:05,  4.17it/s, v_num=0]\n",
      "Epoch 1:  52%|█████▏    | 22/42 [00:05<00:04,  4.20it/s, v_num=0]\n",
      "Epoch 1:  55%|█████▍    | 23/42 [00:05<00:04,  4.22it/s, v_num=0]\n",
      "Epoch 1:  57%|█████▋    | 24/42 [00:05<00:04,  4.24it/s, v_num=0]\n",
      "Epoch 1:  60%|█████▉    | 25/42 [00:05<00:03,  4.26it/s, v_num=0]\n",
      "Epoch 1:  62%|██████▏   | 26/42 [00:06<00:03,  4.27it/s, v_num=0]\n",
      "Epoch 1:  64%|██████▍   | 27/42 [00:06<00:03,  4.29it/s, v_num=0]\n",
      "Epoch 1:  67%|██████▋   | 28/42 [00:06<00:03,  4.31it/s, v_num=0]\n",
      "Epoch 1:  69%|██████▉   | 29/42 [00:06<00:03,  4.32it/s, v_num=0]\n",
      "Epoch 1:  71%|███████▏  | 30/42 [00:06<00:02,  4.34it/s, v_num=0]\n",
      "Epoch 1:  74%|███████▍  | 31/42 [00:07<00:02,  4.35it/s, v_num=0]\n",
      "Epoch 1:  76%|███████▌  | 32/42 [00:07<00:02,  4.36it/s, v_num=0]\n",
      "Epoch 1:  79%|███████▊  | 33/42 [00:07<00:02,  4.37it/s, v_num=0]\n",
      "Epoch 1:  81%|████████  | 34/42 [00:07<00:01,  4.39it/s, v_num=0]\n",
      "Epoch 1:  83%|████████▎ | 35/42 [00:07<00:01,  4.40it/s, v_num=0]\n",
      "Epoch 1:  86%|████████▌ | 36/42 [00:08<00:01,  4.41it/s, v_num=0]\n",
      "Epoch 1:  88%|████████▊ | 37/42 [00:08<00:01,  4.42it/s, v_num=0]\n",
      "Epoch 1:  90%|█████████ | 38/42 [00:08<00:00,  4.43it/s, v_num=0]\n",
      "Epoch 1:  93%|█████████▎| 39/42 [00:08<00:00,  4.44it/s, v_num=0]\n",
      "Epoch 1:  95%|█████████▌| 40/42 [00:08<00:00,  4.45it/s, v_num=0]\n",
      "Epoch 1:  98%|█████████▊| 41/42 [00:09<00:00,  4.46it/s, v_num=0]\n",
      "Epoch 1: 100%|██████████| 42/42 [00:09<00:00,  4.46it/s, v_num=0]\n",
      "\u001b[36m(TrainableCV pid=19000)\u001b[0m \n",
      "Validation: |          | 0/? [00:00<?, ?it/s]\u001b[A\n"
     ]
    }
   ],
   "source": [
    "shutil.rmtree(f\"{current_directory}/logs/ray/\")\n",
    "shutil.rmtree(\"/home/gediminas/ray_results/tunning/\")\n",
    "results = tuner.fit()\n",
    "# best_params = results.get_best_result().config\n",
    "# joblib.dump(best_params,\"temp/best_params.joblib\")"
   ]
  },
  {
   "cell_type": "code",
   "execution_count": 13,
   "metadata": {},
   "outputs": [
    {
     "data": {
      "text/html": [
       "\n",
       "      <iframe id=\"tensorboard-frame-19dd1b8ae061187b\" width=\"100%\" height=\"800\" frameborder=\"0\">\n",
       "      </iframe>\n",
       "      <script>\n",
       "        (function() {\n",
       "          const frame = document.getElementById(\"tensorboard-frame-19dd1b8ae061187b\");\n",
       "          const url = new URL(\"/\", window.location);\n",
       "          const port = 6009;\n",
       "          if (port) {\n",
       "            url.port = port;\n",
       "          }\n",
       "          frame.src = url;\n",
       "        })();\n",
       "      </script>\n",
       "    "
      ],
      "text/plain": [
       "<IPython.core.display.HTML object>"
      ]
     },
     "metadata": {},
     "output_type": "display_data"
    }
   ],
   "source": [
    "%load_ext tensorboard\n",
    "%tensorboard --logdir logs"
   ]
  },
  {
   "cell_type": "code",
   "execution_count": 15,
   "metadata": {},
   "outputs": [
    {
     "data": {
      "text/plain": [
       "{'batch_size': 91,\n",
       " 'max_epochs': 11,\n",
       " 'learning_rate': 3.989079646553492e-05,\n",
       " 'num_classes': 9,\n",
       " 'architecture': 'resnet18',\n",
       " 'optimizer': 'adam',\n",
       " 'l2': 1.620014913053158e-06}"
      ]
     },
     "execution_count": 15,
     "metadata": {},
     "output_type": "execute_result"
    }
   ],
   "source": [
    "best_params"
   ]
  },
  {
   "cell_type": "code",
   "execution_count": 16,
   "metadata": {},
   "outputs": [],
   "source": [
    "best_model,best_dm=tunes.config_models(best_params,MushroomClassifier,MushroomDataModule)"
   ]
  },
  {
   "cell_type": "code",
   "execution_count": 10,
   "metadata": {},
   "outputs": [],
   "source": [
    "# trainer = ptl.Trainer(\n",
    "#     max_epochs=35,\n",
    "#     accelerator=\"gpu\",\n",
    "#     callbacks=[early_stopping_callback],\n",
    "#     logger=tb_logger,\n",
    "# )"
   ]
  },
  {
   "cell_type": "code",
   "execution_count": 18,
   "metadata": {},
   "outputs": [
    {
     "name": "stderr",
     "output_type": "stream",
     "text": [
      "2023-12-08 13:53:02.031575: I tensorflow/core/util/port.cc:113] oneDNN custom operations are on. You may see slightly different numerical results due to floating-point round-off errors from different computation orders. To turn them off, set the environment variable `TF_ENABLE_ONEDNN_OPTS=0`.\n",
      "2023-12-08 13:53:02.033126: I external/local_tsl/tsl/cuda/cudart_stub.cc:31] Could not find cuda drivers on your machine, GPU will not be used.\n",
      "2023-12-08 13:53:02.060113: E external/local_xla/xla/stream_executor/cuda/cuda_dnn.cc:9261] Unable to register cuDNN factory: Attempting to register factory for plugin cuDNN when one has already been registered\n",
      "2023-12-08 13:53:02.060144: E external/local_xla/xla/stream_executor/cuda/cuda_fft.cc:607] Unable to register cuFFT factory: Attempting to register factory for plugin cuFFT when one has already been registered\n",
      "2023-12-08 13:53:02.061030: E external/local_xla/xla/stream_executor/cuda/cuda_blas.cc:1515] Unable to register cuBLAS factory: Attempting to register factory for plugin cuBLAS when one has already been registered\n",
      "2023-12-08 13:53:02.066518: I external/local_tsl/tsl/cuda/cudart_stub.cc:31] Could not find cuda drivers on your machine, GPU will not be used.\n",
      "2023-12-08 13:53:02.068798: I tensorflow/core/platform/cpu_feature_guard.cc:182] This TensorFlow binary is optimized to use available CPU instructions in performance-critical operations.\n",
      "To enable the following instructions: AVX2 AVX_VNNI FMA, in other operations, rebuild TensorFlow with the appropriate compiler flags.\n",
      "2023-12-08 13:53:02.669815: W tensorflow/compiler/tf2tensorrt/utils/py_utils.cc:38] TF-TRT Warning: Could not find TensorRT\n",
      "LOCAL_RANK: 0 - CUDA_VISIBLE_DEVICES: [0]\n",
      "\n",
      "  | Name  | Type   | Params\n",
      "---------------------------------\n",
      "0 | model | ResNet | 11.2 M\n",
      "---------------------------------\n",
      "11.2 M    Trainable params\n",
      "0         Non-trainable params\n",
      "11.2 M    Total params\n",
      "44.725    Total estimated model params size (MB)\n"
     ]
    },
    {
     "data": {
      "application/vnd.jupyter.widget-view+json": {
       "model_id": "f55a944873a346c5a5a031d40d3d8ae6",
       "version_major": 2,
       "version_minor": 0
      },
      "text/plain": [
       "Sanity Checking: |          | 0/? [00:00<?, ?it/s]"
      ]
     },
     "metadata": {},
     "output_type": "display_data"
    },
    {
     "name": "stderr",
     "output_type": "stream",
     "text": [
      "/home/gediminas/anaconda3/envs/DL/lib/python3.11/site-packages/torch/nn/modules/conv.py:456: UserWarning: Applied workaround for CuDNN issue, install nvrtc.so (Triggered internally at ../aten/src/ATen/native/cudnn/Conv_v8.cpp:80.)\n",
      "  return F.conv2d(input, weight, bias, self.stride,\n",
      "/home/gediminas/anaconda3/envs/DL/lib/python3.11/site-packages/pytorch_lightning/loops/fit_loop.py:293: The number of training batches (45) is smaller than the logging interval Trainer(log_every_n_steps=50). Set a lower value for log_every_n_steps if you want to see logs for the training epoch.\n"
     ]
    },
    {
     "data": {
      "application/vnd.jupyter.widget-view+json": {
       "model_id": "63279b45c1c943d682a06d5271719c48",
       "version_major": 2,
       "version_minor": 0
      },
      "text/plain": [
       "Training: |          | 0/? [00:00<?, ?it/s]"
      ]
     },
     "metadata": {},
     "output_type": "display_data"
    },
    {
     "data": {
      "application/vnd.jupyter.widget-view+json": {
       "model_id": "b1afb3bcb33f4a1fa3b6ed2d29803500",
       "version_major": 2,
       "version_minor": 0
      },
      "text/plain": [
       "Validation: |          | 0/? [00:00<?, ?it/s]"
      ]
     },
     "metadata": {},
     "output_type": "display_data"
    },
    {
     "data": {
      "application/vnd.jupyter.widget-view+json": {
       "model_id": "fbd5e33e4a0e43a199ada5d2e37e0a30",
       "version_major": 2,
       "version_minor": 0
      },
      "text/plain": [
       "Validation: |          | 0/? [00:00<?, ?it/s]"
      ]
     },
     "metadata": {},
     "output_type": "display_data"
    },
    {
     "data": {
      "application/vnd.jupyter.widget-view+json": {
       "model_id": "a6655ed8a39445fe8455cad1bf565a5c",
       "version_major": 2,
       "version_minor": 0
      },
      "text/plain": [
       "Validation: |          | 0/? [00:00<?, ?it/s]"
      ]
     },
     "metadata": {},
     "output_type": "display_data"
    },
    {
     "data": {
      "application/vnd.jupyter.widget-view+json": {
       "model_id": "4501854649734903ae91666ee8452375",
       "version_major": 2,
       "version_minor": 0
      },
      "text/plain": [
       "Validation: |          | 0/? [00:00<?, ?it/s]"
      ]
     },
     "metadata": {},
     "output_type": "display_data"
    },
    {
     "data": {
      "application/vnd.jupyter.widget-view+json": {
       "model_id": "4abefdde0b974502bdaaf2fc5c0ca08e",
       "version_major": 2,
       "version_minor": 0
      },
      "text/plain": [
       "Validation: |          | 0/? [00:00<?, ?it/s]"
      ]
     },
     "metadata": {},
     "output_type": "display_data"
    },
    {
     "data": {
      "application/vnd.jupyter.widget-view+json": {
       "model_id": "c8a89372a22c4351ab29435a013099f9",
       "version_major": 2,
       "version_minor": 0
      },
      "text/plain": [
       "Validation: |          | 0/? [00:00<?, ?it/s]"
      ]
     },
     "metadata": {},
     "output_type": "display_data"
    },
    {
     "data": {
      "application/vnd.jupyter.widget-view+json": {
       "model_id": "6881ca911394482a9e5f1522a2e65233",
       "version_major": 2,
       "version_minor": 0
      },
      "text/plain": [
       "Validation: |          | 0/? [00:00<?, ?it/s]"
      ]
     },
     "metadata": {},
     "output_type": "display_data"
    },
    {
     "data": {
      "application/vnd.jupyter.widget-view+json": {
       "model_id": "e7ba064771e043fb855b6be1b36027bd",
       "version_major": 2,
       "version_minor": 0
      },
      "text/plain": [
       "Validation: |          | 0/? [00:00<?, ?it/s]"
      ]
     },
     "metadata": {},
     "output_type": "display_data"
    },
    {
     "data": {
      "application/vnd.jupyter.widget-view+json": {
       "model_id": "ecc965f436a24f7687ec7754d688fad5",
       "version_major": 2,
       "version_minor": 0
      },
      "text/plain": [
       "Validation: |          | 0/? [00:00<?, ?it/s]"
      ]
     },
     "metadata": {},
     "output_type": "display_data"
    },
    {
     "data": {
      "application/vnd.jupyter.widget-view+json": {
       "model_id": "c8dd3153ed854f5189879268f2d8e6bf",
       "version_major": 2,
       "version_minor": 0
      },
      "text/plain": [
       "Validation: |          | 0/? [00:00<?, ?it/s]"
      ]
     },
     "metadata": {},
     "output_type": "display_data"
    },
    {
     "data": {
      "application/vnd.jupyter.widget-view+json": {
       "model_id": "e7d41fe1ec7c486b8a77dda75c827920",
       "version_major": 2,
       "version_minor": 0
      },
      "text/plain": [
       "Validation: |          | 0/? [00:00<?, ?it/s]"
      ]
     },
     "metadata": {},
     "output_type": "display_data"
    },
    {
     "name": "stderr",
     "output_type": "stream",
     "text": [
      "`Trainer.fit` stopped: `max_epochs=11` reached.\n"
     ]
    }
   ],
   "source": [
    "trainer.fit(best_model,best_dm)"
   ]
  },
  {
   "cell_type": "code",
   "execution_count": 19,
   "metadata": {},
   "outputs": [
    {
     "name": "stderr",
     "output_type": "stream",
     "text": [
      "LOCAL_RANK: 0 - CUDA_VISIBLE_DEVICES: [0]\n"
     ]
    },
    {
     "data": {
      "application/vnd.jupyter.widget-view+json": {
       "model_id": "24e72e11f72c41628563e26871fd7040",
       "version_major": 2,
       "version_minor": 0
      },
      "text/plain": [
       "Testing: |          | 0/? [00:00<?, ?it/s]"
      ]
     },
     "metadata": {},
     "output_type": "display_data"
    },
    {
     "name": "stdout",
     "output_type": "stream",
     "text": [
      "────────────────────────────────────────────────────────────────────────────────────────────────────────────────────────\n",
      "       Test metric             DataLoader 0\n",
      "────────────────────────────────────────────────────────────────────────────────────────────────────────────────────────\n",
      "      test_accuracy         0.8064035773277283\n",
      "        test_loss           0.6258587837219238\n",
      "────────────────────────────────────────────────────────────────────────────────────────────────────────────────────────\n"
     ]
    },
    {
     "data": {
      "text/plain": [
       "[{'test_loss': 0.6258587837219238, 'test_accuracy': 0.8064035773277283}]"
      ]
     },
     "execution_count": 19,
     "metadata": {},
     "output_type": "execute_result"
    }
   ],
   "source": [
    "trainer.test(best_model,best_dm)"
   ]
  },
  {
   "cell_type": "code",
   "execution_count": null,
   "metadata": {},
   "outputs": [],
   "source": []
  }
 ],
 "metadata": {
  "kernelspec": {
   "display_name": "base_clone_23_11",
   "language": "python",
   "name": "python3"
  },
  "language_info": {
   "codemirror_mode": {
    "name": "ipython",
    "version": 3
   },
   "file_extension": ".py",
   "mimetype": "text/x-python",
   "name": "python",
   "nbconvert_exporter": "python",
   "pygments_lexer": "ipython3",
   "version": "3.11.5"
  }
 },
 "nbformat": 4,
 "nbformat_minor": 2
}
